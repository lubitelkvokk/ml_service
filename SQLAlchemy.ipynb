{
 "cells": [
  {
   "cell_type": "code",
   "execution_count": 1,
   "id": "531c2aeb-3b58-4413-8bf8-414078d858e6",
   "metadata": {},
   "outputs": [
    {
     "name": "stderr",
     "output_type": "stream",
     "text": [
      "C:\\Users\\Alex\\AppData\\Local\\Temp\\ipykernel_21564\\3449460678.py:1: DeprecationWarning: \n",
      "Pyarrow will become a required dependency of pandas in the next major release of pandas (pandas 3.0),\n",
      "(to allow more performant data types, such as the Arrow string type, and better interoperability with other libraries)\n",
      "but was not found to be installed on your system.\n",
      "If this would cause problems for you,\n",
      "please provide us feedback at https://github.com/pandas-dev/pandas/issues/54466\n",
      "        \n",
      "  import pandas as pd\n"
     ]
    }
   ],
   "source": [
    "import pandas as pd\n",
    "import os\n",
    "import zipfile\n",
    "from sqlalchemy import create_engine, Column, Integer, String, Float, ForeignKey, DateTime, Numeric, Boolean\n",
    "from sqlalchemy.orm import sessionmaker, relationship, declarative_base\n",
    "from datetime import datetime\n",
    "from werkzeug.security import generate_password_hash"
   ]
  },
  {
   "cell_type": "code",
   "execution_count": 2,
   "id": "0ac10f0b-a1c6-4d77-9c4c-fd7618a53823",
   "metadata": {},
   "outputs": [],
   "source": [
    "# Создать соединение с базой данных в SQLAlchemy\n",
    "# Замените 'sqlite:///mydatabase.db' на путь к вашей базе данных\n",
    "engine = create_engine('sqlite:///./mydatabase.db')"
   ]
  },
  {
   "cell_type": "code",
   "execution_count": 3,
   "id": "0b579a84-a9b1-47da-835f-b03bbec4558d",
   "metadata": {},
   "outputs": [],
   "source": [
    "from sqlalchemy.orm import DeclarativeBase\n",
    "from sqlalchemy import func\n",
    "\n",
    "\n",
    "# Создаем базовый класс для объявления моделей\n",
    "class Base(DeclarativeBase): pass\n",
    "\n",
    "# Определение модели для таблицы пользователей\n",
    "class User(Base):\n",
    "    __tablename__ = 'users'\n",
    "\n",
    "    id = Column(Integer, primary_key=True, autoincrement=True)\n",
    "    username = Column(String(255), nullable=False)\n",
    "    password_hash = Column(String(255), nullable=False)  # Предполагается, что это поле для хранения хэшированного пароля\n",
    "    login = Column(String(255), nullable=False, unique=True)\n",
    "    email = Column(String(255), nullable=False, unique=True)  # Добавлено поле email, как было запрошено ранее\n",
    "    registration_date = Column(DateTime(timezone=True), default=func.now())\n",
    "\n",
    "    def set_password(self, password):\n",
    "        self.password_hash = generate_password_hash(password)\n",
    "\n",
    "# Определение модели для аккаунта\n",
    "class Account(Base):\n",
    "    __tablename__ = 'accounts'\n",
    "    \n",
    "    id = Column(Integer, primary_key=True, autoincrement=True)\n",
    "    user_id = Column(Integer, ForeignKey('users.id'))\n",
    "    cash = Column(Integer, nullable=False)\n",
    "    \n",
    "    user = relationship('User', back_populates='accounts')\n",
    "\n",
    "# Определение модели для таблицы действий\n",
    "class Action(Base):\n",
    "    __tablename__ = 'actions'\n",
    "\n",
    "    id = Column(Integer, primary_key=True, autoincrement=True)\n",
    "    account_id = Column(Integer, ForeignKey('accounts.id'))\n",
    "    currency_spent = Column(Integer, nullable=False)\n",
    "    created_at = Column(DateTime, default=datetime.utcnow)\n",
    "\n",
    "    user = relationship('User', back_populates='actions')\n",
    "\n",
    "User.actions = relationship('Action', order_by=Action.id, back_populates='user')\n",
    "\n",
    "# Определение модели для таблицы ML-моделей\n",
    "class Model(Base):\n",
    "    __tablename__ = 'models'\n",
    "\n",
    "    id = Column(Integer, primary_key=True, autoincrement=True)\n",
    "    model_name = Column(String, nullable=False)\n",
    "    cost = Column(Integer, nullable=False)\n",
    "\n",
    "# Определение модели для таблицы предсказаний\n",
    "class Prediction(Base):\n",
    "    __tablename__ = 'predictions'\n",
    "\n",
    "    id = Column(Integer, primary_key=True, autoincrement=True)\n",
    "    action_id = Column(Integer, ForeignKey(\"actions.id\"))\n",
    "    user_id = Column(Integer, ForeignKey('users.id'))\n",
    "    model_id = Column(Integer, ForeignKey('models.id'))\n",
    "    created_at = Column(DateTime, default=datetime.utcnow)\n",
    "\n",
    "    gender = Column(Boolean, nullable=False, default=True)\n",
    "    body_mass_index = Column(Float, nullable=False)\n",
    "    physical_activity = Column(Boolean, nullable=False, default=True)\n",
    "    insulin_level = Column(Float, nullable=False)\n",
    "    diabetes = Column(Integer, nullable=True)\n",
    "    glucose_level = Column(Float, nullable=False)\n",
    "    glucose_tolerance_test = Column(Float, nullable=False)\n",
    "    prediction_result = Column(String(255), nullable=False)\n",
    "\n",
    "    action = relationship('Action', back_populates='predictions')\n",
    "    user = relationship('User', back_populates='predictions')\n",
    "    model = relationship('Model', back_populates='predictions')\n",
    "\n",
    "Action.predictions = relationship('Prediction', order_by=Prediction.id, back_populates='action')\n",
    "User.predictions = relationship('Prediction', order_by=Prediction.id, back_populates='user')\n",
    "Model.predictions = relationship('Prediction', order_by=Prediction.id, back_populates='model')\n",
    "\n",
    "# Создаем таблицы в базе данных, если они еще не существуют\n",
    "Base.metadata.create_all(engine)\n",
    "\n",
    "# Создаем сессию для работы с базой данных\n",
    "Session = sessionmaker()\n",
    "with Session(autoflush=False, bind=engine) as db: \n",
    "    pass"
   ]
  },
  {
   "cell_type": "code",
   "execution_count": 7,
   "id": "bb180a1f-30bb-4893-9988-ddbc12027c57",
   "metadata": {},
   "outputs": [
    {
     "ename": "InvalidRequestError",
     "evalue": "Mapper 'Mapper[User(users)]' has no property 'accounts'.  If this property was indicated from other mappers or configure events, ensure registry.configure() has been called.",
     "output_type": "error",
     "traceback": [
      "\u001B[1;31m---------------------------------------------------------------------------\u001B[0m",
      "\u001B[1;31mKeyError\u001B[0m                                  Traceback (most recent call last)",
      "File \u001B[1;32m~\\IdeaProjects\\FastApiLearning\\venv\\lib\\site-packages\\sqlalchemy\\orm\\mapper.py:2509\u001B[0m, in \u001B[0;36mMapper.get_property\u001B[1;34m(self, key, _configure_mappers)\u001B[0m\n\u001B[0;32m   2508\u001B[0m \u001B[38;5;28;01mtry\u001B[39;00m:\n\u001B[1;32m-> 2509\u001B[0m     \u001B[38;5;28;01mreturn\u001B[39;00m \u001B[38;5;28;43mself\u001B[39;49m\u001B[38;5;241;43m.\u001B[39;49m\u001B[43m_props\u001B[49m\u001B[43m[\u001B[49m\u001B[43mkey\u001B[49m\u001B[43m]\u001B[49m\n\u001B[0;32m   2510\u001B[0m \u001B[38;5;28;01mexcept\u001B[39;00m \u001B[38;5;167;01mKeyError\u001B[39;00m \u001B[38;5;28;01mas\u001B[39;00m err:\n",
      "\u001B[1;31mKeyError\u001B[0m: 'accounts'",
      "\nThe above exception was the direct cause of the following exception:\n",
      "\u001B[1;31mInvalidRequestError\u001B[0m                       Traceback (most recent call last)",
      "Cell \u001B[1;32mIn[7], line 2\u001B[0m\n\u001B[0;32m      1\u001B[0m \u001B[38;5;66;03m# Создание экземпляра пользователя\u001B[39;00m\n\u001B[1;32m----> 2\u001B[0m new_user \u001B[38;5;241m=\u001B[39m \u001B[43mUser\u001B[49m\u001B[43m(\u001B[49m\n\u001B[0;32m      3\u001B[0m \u001B[43m    \u001B[49m\u001B[43musername\u001B[49m\u001B[38;5;241;43m=\u001B[39;49m\u001B[38;5;124;43m'\u001B[39;49m\u001B[38;5;124;43muser123\u001B[39;49m\u001B[38;5;124;43m'\u001B[39;49m\u001B[43m,\u001B[49m\n\u001B[0;32m      4\u001B[0m \u001B[43m    \u001B[49m\u001B[43memail\u001B[49m\u001B[38;5;241;43m=\u001B[39;49m\u001B[38;5;124;43m'\u001B[39;49m\u001B[38;5;124;43m123@example.com\u001B[39;49m\u001B[38;5;124;43m'\u001B[39;49m\u001B[43m,\u001B[49m\n\u001B[0;32m      5\u001B[0m \u001B[43m)\u001B[49m\n\u001B[0;32m      6\u001B[0m new_user\u001B[38;5;241m.\u001B[39mset_password(\u001B[38;5;124m'\u001B[39m\u001B[38;5;124mpassword123\u001B[39m\u001B[38;5;124m'\u001B[39m)\n\u001B[0;32m      8\u001B[0m \u001B[38;5;66;03m# Добавление участника в сессию\u001B[39;00m\n",
      "File \u001B[1;32m<string>:4\u001B[0m, in \u001B[0;36m__init__\u001B[1;34m(self, **kwargs)\u001B[0m\n",
      "File \u001B[1;32m~\\IdeaProjects\\FastApiLearning\\venv\\lib\\site-packages\\sqlalchemy\\orm\\state.py:559\u001B[0m, in \u001B[0;36mInstanceState._initialize_instance\u001B[1;34m(*mixed, **kwargs)\u001B[0m\n\u001B[0;32m    556\u001B[0m \u001B[38;5;28mself\u001B[39m, instance, args \u001B[38;5;241m=\u001B[39m mixed[\u001B[38;5;241m0\u001B[39m], mixed[\u001B[38;5;241m1\u001B[39m], mixed[\u001B[38;5;241m2\u001B[39m:]  \u001B[38;5;66;03m# noqa\u001B[39;00m\n\u001B[0;32m    557\u001B[0m manager \u001B[38;5;241m=\u001B[39m \u001B[38;5;28mself\u001B[39m\u001B[38;5;241m.\u001B[39mmanager\n\u001B[1;32m--> 559\u001B[0m \u001B[43mmanager\u001B[49m\u001B[38;5;241;43m.\u001B[39;49m\u001B[43mdispatch\u001B[49m\u001B[38;5;241;43m.\u001B[39;49m\u001B[43minit\u001B[49m\u001B[43m(\u001B[49m\u001B[38;5;28;43mself\u001B[39;49m\u001B[43m,\u001B[49m\u001B[43m \u001B[49m\u001B[43margs\u001B[49m\u001B[43m,\u001B[49m\u001B[43m \u001B[49m\u001B[43mkwargs\u001B[49m\u001B[43m)\u001B[49m\n\u001B[0;32m    561\u001B[0m \u001B[38;5;28;01mtry\u001B[39;00m:\n\u001B[0;32m    562\u001B[0m     manager\u001B[38;5;241m.\u001B[39moriginal_init(\u001B[38;5;241m*\u001B[39mmixed[\u001B[38;5;241m1\u001B[39m:], \u001B[38;5;241m*\u001B[39m\u001B[38;5;241m*\u001B[39mkwargs)\n",
      "File \u001B[1;32m~\\IdeaProjects\\FastApiLearning\\venv\\lib\\site-packages\\sqlalchemy\\event\\attr.py:497\u001B[0m, in \u001B[0;36m_CompoundListener.__call__\u001B[1;34m(self, *args, **kw)\u001B[0m\n\u001B[0;32m    495\u001B[0m     fn(\u001B[38;5;241m*\u001B[39margs, \u001B[38;5;241m*\u001B[39m\u001B[38;5;241m*\u001B[39mkw)\n\u001B[0;32m    496\u001B[0m \u001B[38;5;28;01mfor\u001B[39;00m fn \u001B[38;5;129;01min\u001B[39;00m \u001B[38;5;28mself\u001B[39m\u001B[38;5;241m.\u001B[39mlisteners:\n\u001B[1;32m--> 497\u001B[0m     fn(\u001B[38;5;241m*\u001B[39margs, \u001B[38;5;241m*\u001B[39m\u001B[38;5;241m*\u001B[39mkw)\n",
      "File \u001B[1;32m~\\IdeaProjects\\FastApiLearning\\venv\\lib\\site-packages\\sqlalchemy\\orm\\mapper.py:4395\u001B[0m, in \u001B[0;36m_event_on_init\u001B[1;34m(state, args, kwargs)\u001B[0m\n\u001B[0;32m   4393\u001B[0m instrumenting_mapper \u001B[38;5;241m=\u001B[39m state\u001B[38;5;241m.\u001B[39mmanager\u001B[38;5;241m.\u001B[39mmapper\n\u001B[0;32m   4394\u001B[0m \u001B[38;5;28;01mif\u001B[39;00m instrumenting_mapper:\n\u001B[1;32m-> 4395\u001B[0m     \u001B[43minstrumenting_mapper\u001B[49m\u001B[38;5;241;43m.\u001B[39;49m\u001B[43m_check_configure\u001B[49m\u001B[43m(\u001B[49m\u001B[43m)\u001B[49m\n\u001B[0;32m   4396\u001B[0m     \u001B[38;5;28;01mif\u001B[39;00m instrumenting_mapper\u001B[38;5;241m.\u001B[39m_set_polymorphic_identity:\n\u001B[0;32m   4397\u001B[0m         instrumenting_mapper\u001B[38;5;241m.\u001B[39m_set_polymorphic_identity(state)\n",
      "File \u001B[1;32m~\\IdeaProjects\\FastApiLearning\\venv\\lib\\site-packages\\sqlalchemy\\orm\\mapper.py:2388\u001B[0m, in \u001B[0;36mMapper._check_configure\u001B[1;34m(self)\u001B[0m\n\u001B[0;32m   2380\u001B[0m \u001B[38;5;129m@util\u001B[39m\u001B[38;5;241m.\u001B[39mlanghelpers\u001B[38;5;241m.\u001B[39mtag_method_for_warnings(\n\u001B[0;32m   2381\u001B[0m     \u001B[38;5;124m\"\u001B[39m\u001B[38;5;124mThis warning originated from the `configure_mappers()` process, \u001B[39m\u001B[38;5;124m\"\u001B[39m\n\u001B[0;32m   2382\u001B[0m     \u001B[38;5;124m\"\u001B[39m\u001B[38;5;124mwhich was invoked automatically in response to a user-initiated \u001B[39m\u001B[38;5;124m\"\u001B[39m\n\u001B[1;32m   (...)\u001B[0m\n\u001B[0;32m   2385\u001B[0m )\n\u001B[0;32m   2386\u001B[0m \u001B[38;5;28;01mdef\u001B[39;00m \u001B[38;5;21m_check_configure\u001B[39m(\u001B[38;5;28mself\u001B[39m) \u001B[38;5;241m-\u001B[39m\u001B[38;5;241m>\u001B[39m \u001B[38;5;28;01mNone\u001B[39;00m:\n\u001B[0;32m   2387\u001B[0m     \u001B[38;5;28;01mif\u001B[39;00m \u001B[38;5;28mself\u001B[39m\u001B[38;5;241m.\u001B[39mregistry\u001B[38;5;241m.\u001B[39m_new_mappers:\n\u001B[1;32m-> 2388\u001B[0m         \u001B[43m_configure_registries\u001B[49m\u001B[43m(\u001B[49m\u001B[43m{\u001B[49m\u001B[38;5;28;43mself\u001B[39;49m\u001B[38;5;241;43m.\u001B[39;49m\u001B[43mregistry\u001B[49m\u001B[43m}\u001B[49m\u001B[43m,\u001B[49m\u001B[43m \u001B[49m\u001B[43mcascade\u001B[49m\u001B[38;5;241;43m=\u001B[39;49m\u001B[38;5;28;43;01mTrue\u001B[39;49;00m\u001B[43m)\u001B[49m\n",
      "File \u001B[1;32m~\\IdeaProjects\\FastApiLearning\\venv\\lib\\site-packages\\sqlalchemy\\orm\\mapper.py:4203\u001B[0m, in \u001B[0;36m_configure_registries\u001B[1;34m(registries, cascade)\u001B[0m\n\u001B[0;32m   4197\u001B[0m     Mapper\u001B[38;5;241m.\u001B[39mdispatch\u001B[38;5;241m.\u001B[39m_for_class(Mapper)\u001B[38;5;241m.\u001B[39mbefore_configured()  \u001B[38;5;66;03m# type: ignore # noqa: E501\u001B[39;00m\n\u001B[0;32m   4198\u001B[0m     \u001B[38;5;66;03m# initialize properties on all mappers\u001B[39;00m\n\u001B[0;32m   4199\u001B[0m     \u001B[38;5;66;03m# note that _mapper_registry is unordered, which\u001B[39;00m\n\u001B[0;32m   4200\u001B[0m     \u001B[38;5;66;03m# may randomly conceal/reveal issues related to\u001B[39;00m\n\u001B[0;32m   4201\u001B[0m     \u001B[38;5;66;03m# the order of mapper compilation\u001B[39;00m\n\u001B[1;32m-> 4203\u001B[0m     \u001B[43m_do_configure_registries\u001B[49m\u001B[43m(\u001B[49m\u001B[43mregistries\u001B[49m\u001B[43m,\u001B[49m\u001B[43m \u001B[49m\u001B[43mcascade\u001B[49m\u001B[43m)\u001B[49m\n\u001B[0;32m   4204\u001B[0m \u001B[38;5;28;01mfinally\u001B[39;00m:\n\u001B[0;32m   4205\u001B[0m     _already_compiling \u001B[38;5;241m=\u001B[39m \u001B[38;5;28;01mFalse\u001B[39;00m\n",
      "File \u001B[1;32m~\\IdeaProjects\\FastApiLearning\\venv\\lib\\site-packages\\sqlalchemy\\orm\\mapper.py:4244\u001B[0m, in \u001B[0;36m_do_configure_registries\u001B[1;34m(registries, cascade)\u001B[0m\n\u001B[0;32m   4242\u001B[0m \u001B[38;5;28;01mif\u001B[39;00m \u001B[38;5;129;01mnot\u001B[39;00m mapper\u001B[38;5;241m.\u001B[39mconfigured:\n\u001B[0;32m   4243\u001B[0m     \u001B[38;5;28;01mtry\u001B[39;00m:\n\u001B[1;32m-> 4244\u001B[0m         \u001B[43mmapper\u001B[49m\u001B[38;5;241;43m.\u001B[39;49m\u001B[43m_post_configure_properties\u001B[49m\u001B[43m(\u001B[49m\u001B[43m)\u001B[49m\n\u001B[0;32m   4245\u001B[0m         mapper\u001B[38;5;241m.\u001B[39m_expire_memoizations()\n\u001B[0;32m   4246\u001B[0m         mapper\u001B[38;5;241m.\u001B[39mdispatch\u001B[38;5;241m.\u001B[39mmapper_configured(mapper, mapper\u001B[38;5;241m.\u001B[39mclass_)\n",
      "File \u001B[1;32m~\\IdeaProjects\\FastApiLearning\\venv\\lib\\site-packages\\sqlalchemy\\orm\\mapper.py:2405\u001B[0m, in \u001B[0;36mMapper._post_configure_properties\u001B[1;34m(self)\u001B[0m\n\u001B[0;32m   2402\u001B[0m \u001B[38;5;28mself\u001B[39m\u001B[38;5;241m.\u001B[39m_log(\u001B[38;5;124m\"\u001B[39m\u001B[38;5;124minitialize prop \u001B[39m\u001B[38;5;132;01m%s\u001B[39;00m\u001B[38;5;124m\"\u001B[39m, key)\n\u001B[0;32m   2404\u001B[0m \u001B[38;5;28;01mif\u001B[39;00m prop\u001B[38;5;241m.\u001B[39mparent \u001B[38;5;129;01mis\u001B[39;00m \u001B[38;5;28mself\u001B[39m \u001B[38;5;129;01mand\u001B[39;00m \u001B[38;5;129;01mnot\u001B[39;00m prop\u001B[38;5;241m.\u001B[39m_configure_started:\n\u001B[1;32m-> 2405\u001B[0m     \u001B[43mprop\u001B[49m\u001B[38;5;241;43m.\u001B[39;49m\u001B[43minit\u001B[49m\u001B[43m(\u001B[49m\u001B[43m)\u001B[49m\n\u001B[0;32m   2407\u001B[0m \u001B[38;5;28;01mif\u001B[39;00m prop\u001B[38;5;241m.\u001B[39m_configure_finished:\n\u001B[0;32m   2408\u001B[0m     prop\u001B[38;5;241m.\u001B[39mpost_instrument_class(\u001B[38;5;28mself\u001B[39m)\n",
      "File \u001B[1;32m~\\IdeaProjects\\FastApiLearning\\venv\\lib\\site-packages\\sqlalchemy\\orm\\interfaces.py:579\u001B[0m, in \u001B[0;36mMapperProperty.init\u001B[1;34m(self)\u001B[0m\n\u001B[0;32m    572\u001B[0m \u001B[38;5;250m\u001B[39m\u001B[38;5;124;03m\"\"\"Called after all mappers are created to assemble\u001B[39;00m\n\u001B[0;32m    573\u001B[0m \u001B[38;5;124;03mrelationships between mappers and perform other post-mapper-creation\u001B[39;00m\n\u001B[0;32m    574\u001B[0m \u001B[38;5;124;03minitialization steps.\u001B[39;00m\n\u001B[0;32m    575\u001B[0m \n\u001B[0;32m    576\u001B[0m \n\u001B[0;32m    577\u001B[0m \u001B[38;5;124;03m\"\"\"\u001B[39;00m\n\u001B[0;32m    578\u001B[0m \u001B[38;5;28mself\u001B[39m\u001B[38;5;241m.\u001B[39m_configure_started \u001B[38;5;241m=\u001B[39m \u001B[38;5;28;01mTrue\u001B[39;00m\n\u001B[1;32m--> 579\u001B[0m \u001B[38;5;28;43mself\u001B[39;49m\u001B[38;5;241;43m.\u001B[39;49m\u001B[43mdo_init\u001B[49m\u001B[43m(\u001B[49m\u001B[43m)\u001B[49m\n\u001B[0;32m    580\u001B[0m \u001B[38;5;28mself\u001B[39m\u001B[38;5;241m.\u001B[39m_configure_finished \u001B[38;5;241m=\u001B[39m \u001B[38;5;28;01mTrue\u001B[39;00m\n",
      "File \u001B[1;32m~\\IdeaProjects\\FastApiLearning\\venv\\lib\\site-packages\\sqlalchemy\\orm\\relationships.py:1645\u001B[0m, in \u001B[0;36mRelationshipProperty.do_init\u001B[1;34m(self)\u001B[0m\n\u001B[0;32m   1643\u001B[0m \u001B[38;5;28mself\u001B[39m\u001B[38;5;241m.\u001B[39m_check_cascade_settings(\u001B[38;5;28mself\u001B[39m\u001B[38;5;241m.\u001B[39m_cascade)\n\u001B[0;32m   1644\u001B[0m \u001B[38;5;28mself\u001B[39m\u001B[38;5;241m.\u001B[39m_post_init()\n\u001B[1;32m-> 1645\u001B[0m \u001B[38;5;28;43mself\u001B[39;49m\u001B[38;5;241;43m.\u001B[39;49m\u001B[43m_generate_backref\u001B[49m\u001B[43m(\u001B[49m\u001B[43m)\u001B[49m\n\u001B[0;32m   1646\u001B[0m \u001B[38;5;28mself\u001B[39m\u001B[38;5;241m.\u001B[39m_join_condition\u001B[38;5;241m.\u001B[39m_warn_for_conflicting_sync_targets()\n\u001B[0;32m   1647\u001B[0m \u001B[38;5;28msuper\u001B[39m()\u001B[38;5;241m.\u001B[39mdo_init()\n",
      "File \u001B[1;32m~\\IdeaProjects\\FastApiLearning\\venv\\lib\\site-packages\\sqlalchemy\\orm\\relationships.py:2133\u001B[0m, in \u001B[0;36mRelationshipProperty._generate_backref\u001B[1;34m(self)\u001B[0m\n\u001B[0;32m   2128\u001B[0m     mapper\u001B[38;5;241m.\u001B[39m_configure_property(\n\u001B[0;32m   2129\u001B[0m         backref_key, relationship, warn_for_existing\u001B[38;5;241m=\u001B[39m\u001B[38;5;28;01mTrue\u001B[39;00m\n\u001B[0;32m   2130\u001B[0m     )\n\u001B[0;32m   2132\u001B[0m \u001B[38;5;28;01mif\u001B[39;00m \u001B[38;5;28mself\u001B[39m\u001B[38;5;241m.\u001B[39mback_populates:\n\u001B[1;32m-> 2133\u001B[0m     \u001B[38;5;28;43mself\u001B[39;49m\u001B[38;5;241;43m.\u001B[39;49m\u001B[43m_add_reverse_property\u001B[49m\u001B[43m(\u001B[49m\u001B[38;5;28;43mself\u001B[39;49m\u001B[38;5;241;43m.\u001B[39;49m\u001B[43mback_populates\u001B[49m\u001B[43m)\u001B[49m\n",
      "File \u001B[1;32m~\\IdeaProjects\\FastApiLearning\\venv\\lib\\site-packages\\sqlalchemy\\orm\\relationships.py:1576\u001B[0m, in \u001B[0;36mRelationshipProperty._add_reverse_property\u001B[1;34m(self, key)\u001B[0m\n\u001B[0;32m   1575\u001B[0m \u001B[38;5;28;01mdef\u001B[39;00m \u001B[38;5;21m_add_reverse_property\u001B[39m(\u001B[38;5;28mself\u001B[39m, key: \u001B[38;5;28mstr\u001B[39m) \u001B[38;5;241m-\u001B[39m\u001B[38;5;241m>\u001B[39m \u001B[38;5;28;01mNone\u001B[39;00m:\n\u001B[1;32m-> 1576\u001B[0m     other \u001B[38;5;241m=\u001B[39m \u001B[38;5;28;43mself\u001B[39;49m\u001B[38;5;241;43m.\u001B[39;49m\u001B[43mmapper\u001B[49m\u001B[38;5;241;43m.\u001B[39;49m\u001B[43mget_property\u001B[49m\u001B[43m(\u001B[49m\u001B[43mkey\u001B[49m\u001B[43m,\u001B[49m\u001B[43m \u001B[49m\u001B[43m_configure_mappers\u001B[49m\u001B[38;5;241;43m=\u001B[39;49m\u001B[38;5;28;43;01mFalse\u001B[39;49;00m\u001B[43m)\u001B[49m\n\u001B[0;32m   1577\u001B[0m     \u001B[38;5;28;01mif\u001B[39;00m \u001B[38;5;129;01mnot\u001B[39;00m \u001B[38;5;28misinstance\u001B[39m(other, RelationshipProperty):\n\u001B[0;32m   1578\u001B[0m         \u001B[38;5;28;01mraise\u001B[39;00m sa_exc\u001B[38;5;241m.\u001B[39mInvalidRequestError(\n\u001B[0;32m   1579\u001B[0m             \u001B[38;5;124m\"\u001B[39m\u001B[38;5;124mback_populates on relationship \u001B[39m\u001B[38;5;124m'\u001B[39m\u001B[38;5;132;01m%s\u001B[39;00m\u001B[38;5;124m'\u001B[39m\u001B[38;5;124m refers to attribute \u001B[39m\u001B[38;5;124m'\u001B[39m\u001B[38;5;132;01m%s\u001B[39;00m\u001B[38;5;124m'\u001B[39m\u001B[38;5;124m \u001B[39m\u001B[38;5;124m\"\u001B[39m\n\u001B[0;32m   1580\u001B[0m             \u001B[38;5;124m\"\u001B[39m\u001B[38;5;124mthat is not a relationship.  The back_populates parameter \u001B[39m\u001B[38;5;124m\"\u001B[39m\n\u001B[0;32m   1581\u001B[0m             \u001B[38;5;124m\"\u001B[39m\u001B[38;5;124mshould refer to the name of a relationship on the target \u001B[39m\u001B[38;5;124m\"\u001B[39m\n\u001B[0;32m   1582\u001B[0m             \u001B[38;5;124m\"\u001B[39m\u001B[38;5;124mclass.\u001B[39m\u001B[38;5;124m\"\u001B[39m \u001B[38;5;241m%\u001B[39m (\u001B[38;5;28mself\u001B[39m, other)\n\u001B[0;32m   1583\u001B[0m         )\n",
      "File \u001B[1;32m~\\IdeaProjects\\FastApiLearning\\venv\\lib\\site-packages\\sqlalchemy\\orm\\mapper.py:2511\u001B[0m, in \u001B[0;36mMapper.get_property\u001B[1;34m(self, key, _configure_mappers)\u001B[0m\n\u001B[0;32m   2509\u001B[0m     \u001B[38;5;28;01mreturn\u001B[39;00m \u001B[38;5;28mself\u001B[39m\u001B[38;5;241m.\u001B[39m_props[key]\n\u001B[0;32m   2510\u001B[0m \u001B[38;5;28;01mexcept\u001B[39;00m \u001B[38;5;167;01mKeyError\u001B[39;00m \u001B[38;5;28;01mas\u001B[39;00m err:\n\u001B[1;32m-> 2511\u001B[0m     \u001B[38;5;28;01mraise\u001B[39;00m sa_exc\u001B[38;5;241m.\u001B[39mInvalidRequestError(\n\u001B[0;32m   2512\u001B[0m         \u001B[38;5;124mf\u001B[39m\u001B[38;5;124m\"\u001B[39m\u001B[38;5;124mMapper \u001B[39m\u001B[38;5;124m'\u001B[39m\u001B[38;5;132;01m{\u001B[39;00m\u001B[38;5;28mself\u001B[39m\u001B[38;5;132;01m}\u001B[39;00m\u001B[38;5;124m'\u001B[39m\u001B[38;5;124m has no property \u001B[39m\u001B[38;5;124m'\u001B[39m\u001B[38;5;132;01m{\u001B[39;00mkey\u001B[38;5;132;01m}\u001B[39;00m\u001B[38;5;124m'\u001B[39m\u001B[38;5;124m.  If this property \u001B[39m\u001B[38;5;124m\"\u001B[39m\n\u001B[0;32m   2513\u001B[0m         \u001B[38;5;124m\"\u001B[39m\u001B[38;5;124mwas indicated from other mappers or configure events, ensure \u001B[39m\u001B[38;5;124m\"\u001B[39m\n\u001B[0;32m   2514\u001B[0m         \u001B[38;5;124m\"\u001B[39m\u001B[38;5;124mregistry.configure() has been called.\u001B[39m\u001B[38;5;124m\"\u001B[39m\n\u001B[0;32m   2515\u001B[0m     ) \u001B[38;5;28;01mfrom\u001B[39;00m \u001B[38;5;21;01merr\u001B[39;00m\n",
      "\u001B[1;31mInvalidRequestError\u001B[0m: Mapper 'Mapper[User(users)]' has no property 'accounts'.  If this property was indicated from other mappers or configure events, ensure registry.configure() has been called."
     ]
    }
   ],
   "source": [
    "# Создание экземпляра пользователя\n",
    "new_user = User(\n",
    "    username='user123',\n",
    "    email='123@example.com',\n",
    ")\n",
    "new_user.set_password('password123')\n",
    "\n",
    "# Добавление участника в сессию\n",
    "db.add(new_user)\n",
    "db.commit()  # Сохранение изменений в базе данных\n",
    "db.refresh(new_user) # Обновление состояния объекта"
   ]
  },
  {
   "cell_type": "code",
   "execution_count": null,
   "id": "9338cd6a-bbf6-4761-89ae-a899abd73d24",
   "metadata": {},
   "outputs": [],
   "source": [
    "# Извлечение всех участников\n",
    "all_users = db.query(User).all()\n",
    "for user in all_users:\n",
    "    print(user.username, user.email, user.created_at)"
   ]
  },
  {
   "cell_type": "code",
   "execution_count": null,
   "id": "f3c16469-b432-4eb0-8ddc-c7468f49229b",
   "metadata": {},
   "outputs": [],
   "source": [
    "first_user = db.query(User).filter(User.id==1).first()\n",
    "first_user.username = 'frog'\n",
    "db.commit()\n",
    "all_users = db.query(User).all()\n",
    "for u in all_users:\n",
    "    print(u.username, u.email)"
   ]
  },
  {
   "cell_type": "code",
   "execution_count": null,
   "id": "13dd82ba-d5f8-463d-b012-3d33c3b2cf51",
   "metadata": {},
   "outputs": [],
   "source": [
    "all_users = db.query(User).filter(User.id==1).first()\n",
    "all_users.username = 'frog'\n",
    "db.commit()\n",
    "frog = db.query(User).all()\n",
    "print(u.username, u.email)"
   ]
  },
  {
   "cell_type": "code",
   "execution_count": null,
   "id": "4ad0c8a7-58fb-4022-ad87-8e34c8152dd6",
   "metadata": {},
   "outputs": [],
   "source": [
    "db.rollback()"
   ]
  },
  {
   "cell_type": "code",
   "execution_count": null,
   "id": "be7e89bd-1f20-4b5a-85a4-861d3f998a26",
   "metadata": {},
   "outputs": [],
   "source": []
  }
 ],
 "metadata": {
  "kernelspec": {
   "display_name": "Python 3 (ipykernel)",
   "language": "python",
   "name": "python3"
  }
 },
 "nbformat": 4,
 "nbformat_minor": 5
}
