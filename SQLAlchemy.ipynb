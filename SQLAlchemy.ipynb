{
 "cells": [
  {
   "cell_type": "code",
   "execution_count": 1,
   "id": "531c2aeb-3b58-4413-8bf8-414078d858e6",
   "metadata": {},
   "outputs": [],
   "source": [
    "import pandas as pd\n",
    "import os\n",
    "import zipfile\n",
    "from sqlalchemy import create_engine, Column, Integer, String, Float, ForeignKey, DateTime, Numeric, Boolean\n",
    "from sqlalchemy.orm import sessionmaker, relationship, declarative_base\n",
    "from datetime import datetime\n",
    "from werkzeug.security import generate_password_hash"
   ]
  },
  {
   "cell_type": "code",
   "execution_count": null,
   "id": "0ac10f0b-a1c6-4d77-9c4c-fd7618a53823",
   "metadata": {},
   "outputs": [],
   "source": [
    "# Создать соединение с базой данных в SQLAlchemy\n",
    "# Замените 'sqlite:///mydatabase.db' на путь к вашей базе данных\n",
    "engine = create_engine('sqlite:////home/evgen0805/GitHubReps/Practice-ML-DEV/cases/case_4/Ivanov/mydatabase.db')"
   ]
  },
  {
   "cell_type": "code",
   "execution_count": null,
   "id": "0b579a84-a9b1-47da-835f-b03bbec4558d",
   "metadata": {},
   "outputs": [],
   "source": [
    "# Создаем базовый класс для объявления моделей\n",
    "class Base(DeclarativeBase): pass\n",
    "\n",
    "# Определение модели для таблицы пользователей\n",
    "class User(Base):\n",
    "    __tablename__ = 'users'\n",
    "\n",
    "    id = Column(Integer, primary_key=True, autoincrement=True)\n",
    "    username = Column(String, unique=True, nullable=False)\n",
    "    email = Column(String, unique=True, nullable=False)\n",
    "    password_hash = Column(String(128), nullable=False)\n",
    "    created_at = Column(DateTime, default=datetime.utcnow)\n",
    "\n",
    "    def set_password(self, password):\n",
    "        self.password_hash = generate_password_hash(password)\n",
    "\n",
    "# Определение модели для аккаунта\n",
    "class Account(Base):\n",
    "    __tablename__ = 'accounts'\n",
    "    \n",
    "    id = Column(Integer, primary_key=True, autoincrement=True)\n",
    "    user_id = Column(Integer, ForeignKey('users.id'))\n",
    "    cash = Column(Integer, nullable=False)\n",
    "    \n",
    "    user = relationship('User', back_populates='accounts')\n",
    "\n",
    "# Определение модели для таблицы действий\n",
    "class Action(Base):\n",
    "    __tablename__ = 'actions'\n",
    "\n",
    "    id = Column(Integer, primary_key=True, autoincrement=True)\n",
    "    user_id = Column(Integer, ForeignKey('users.id'))\n",
    "    action_type = Column(String)\n",
    "    cash_spent = Column(Integer, nullable=False)\n",
    "    created_at = Column(DateTime, default=datetime.utcnow)\n",
    "\n",
    "    user = relationship('User', back_populates='actions')\n",
    "\n",
    "User.actions = relationship('Action', order_by=Action.id, back_populates='user')\n",
    "\n",
    "# Определение модели для таблицы ML-моделей\n",
    "class Model(Base):\n",
    "    __tablename__ = 'models'\n",
    "\n",
    "    id = Column(Integer, primary_key=True, autoincrement=True)\n",
    "    model_name = Column(String, nullable=False)\n",
    "    cost = Column(Integer, nullable=False)\n",
    "\n",
    "# Определение модели для таблицы предсказаний\n",
    "class Prediction(Base):\n",
    "    __tablename__ = 'predictions'\n",
    "\n",
    "    id = Column(Integer, primary_key=True, autoincrement=True)\n",
    "    action_id = Column(Integer, ForeignKey(\"actions.id\"))\n",
    "    user_id = Column(Integer, ForeignKey('users.id'))\n",
    "    model_id = Column(Integer, ForeignKey('models.id'))\n",
    "    created_at = Column(DateTime, default=datetime.utcnow)\n",
    "\n",
    "    gender = Column(Boolean, nullable=False, default=True)\n",
    "    body_mass_index = Column(Float, nullable=False)\n",
    "    physical_activity = Column(Boolean, nullable=False, default=True)\n",
    "    insulin_level = Column(Float, nullable=False)\n",
    "    diabetes = Column(Integer, nullable=True)\n",
    "    glucose_level = Column(Float, nullable=False)\n",
    "    glucose_tolerance_test = Column(Float, nullable=False)\n",
    "    prediction_result = Column(String(255), nullable=False)\n",
    "\n",
    "    action = relationship('Action', back_populates='predictions')\n",
    "    user = relationship('User', back_populates='predictions')\n",
    "    model = relationship('Model', back_populates='predictions')\n",
    "\n",
    "Action.predictions = relationship('Prediction', order_by=Prediction.id, back_populates='action')\n",
    "User.predictions = relationship('Prediction', order_by=Prediction.id, back_populates='user')\n",
    "Model.predictions = relationship('Prediction', order_by=Prediction.id, back_populates='model')\n",
    "\n",
    "# Создаем таблицы в базе данных, если они еще не существуют\n",
    "Base.metadata.create_all(engine)\n",
    "\n",
    "# Создаем сессию для работы с базой данных\n",
    "Session = sessionmaker()\n",
    "with Session(autoflush=False, bind=engine) as db: \n",
    "    pass"
   ]
  },
  {
   "cell_type": "code",
   "execution_count": null,
   "id": "bb180a1f-30bb-4893-9988-ddbc12027c57",
   "metadata": {},
   "outputs": [],
   "source": [
    "# Создание экземпляра пользователя\n",
    "new_user = User(\n",
    "    username='user123',\n",
    "    email='123@example.com',\n",
    ")\n",
    "new_user.set_password('password123')\n",
    "\n",
    "# Добавление участника в сессию\n",
    "db.add(new_user)\n",
    "db.commit()  # Сохранение изменений в базе данных\n",
    "db.refresh(new_user) # Обновление состояния объекта"
   ]
  },
  {
   "cell_type": "code",
   "execution_count": null,
   "id": "9338cd6a-bbf6-4761-89ae-a899abd73d24",
   "metadata": {},
   "outputs": [],
   "source": [
    "# Извлечение всех участников\n",
    "all_users = db.query(User).all()\n",
    "for user in all_users:\n",
    "    print(user.username, user.email, user.created_at)"
   ]
  },
  {
   "cell_type": "code",
   "execution_count": null,
   "id": "f3c16469-b432-4eb0-8ddc-c7468f49229b",
   "metadata": {},
   "outputs": [],
   "source": [
    "first_user = db.query(User).filter(User.id==1).first()\n",
    "first_user.username = 'frog'\n",
    "db.commit()\n",
    "all_users = db.query(User).all()\n",
    "for u in all_users:\n",
    "    print(u.username, u.email)"
   ]
  },
  {
   "cell_type": "code",
   "execution_count": null,
   "id": "13dd82ba-d5f8-463d-b012-3d33c3b2cf51",
   "metadata": {},
   "outputs": [],
   "source": [
    "all_users = db.query(User).filter(User.id==1).first()\n",
    "all_users.username = 'frog'\n",
    "db.commit()\n",
    "frog = db.query(User).all()\n",
    "print(u.username, u.email)"
   ]
  },
  {
   "cell_type": "code",
   "execution_count": null,
   "id": "4ad0c8a7-58fb-4022-ad87-8e34c8152dd6",
   "metadata": {},
   "outputs": [],
   "source": [
    "db.rollback()"
   ]
  },
  {
   "cell_type": "code",
   "execution_count": null,
   "id": "be7e89bd-1f20-4b5a-85a4-861d3f998a26",
   "metadata": {},
   "outputs": [],
   "source": []
  }
 ],
 "metadata": {
  "kernelspec": {
   "display_name": "Python 3 (ipykernel)",
   "language": "python",
   "name": "python3"
  }
 },
 "nbformat": 4,
 "nbformat_minor": 5
}
