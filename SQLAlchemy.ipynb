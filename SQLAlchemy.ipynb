{
 "cells": [
  {
   "cell_type": "code",
   "execution_count": 1,
   "id": "531c2aeb-3b58-4413-8bf8-414078d858e6",
   "metadata": {},
   "outputs": [],
   "source": [
    "import pandas as pd\n",
    "import os\n",
    "import zipfile\n",
    "from sqlalchemy import create_engine, Column, Integer, String, Float, ForeignKey, DateTime, Numeric, Boolean\n",
    "from sqlalchemy.orm import sessionmaker, relationship, declarative_base\n",
    "from datetime import datetime\n",
    "from werkzeug.security import generate_password_hash\n",
    "from db_init import db\n",
    "from src.db.repository.model_repository import create_new_model"
   ]
  },
  {
   "cell_type": "code",
   "execution_count": 2,
   "id": "0ac10f0b-a1c6-4d77-9c4c-fd7618a53823",
   "metadata": {},
   "outputs": [],
   "source": [
    "# Создать соединение с базой данных в SQLAlchemy\n",
    "# Замените 'sqlite:///mydatabase.db' на путь к вашей базе данных\n",
    "engine = create_engine('sqlite:///./mydatabase.db')"
   ]
  },
  {
   "cell_type": "code",
   "execution_count": 3,
   "id": "0b579a84-a9b1-47da-835f-b03bbec4558d",
   "metadata": {},
   "outputs": [],
   "source": [
    "from sqlalchemy.orm import DeclarativeBase\n",
    "from sqlalchemy import func\n",
    "\n",
    "\n",
    "# Создаем базовый класс для объявления моделей\n",
    "class Base(DeclarativeBase): pass\n",
    "\n",
    "# Определение модели для таблицы пользователей\n",
    "class User(Base):\n",
    "    __tablename__ = 'users'\n",
    "\n",
    "    id = Column(Integer, primary_key=True, autoincrement=True)\n",
    "    username = Column(String(255), nullable=False)\n",
    "    password_hash = Column(String(255), nullable=False)  # Предполагается, что это поле для хранения хэшированного пароля\n",
    "    login = Column(String(255), nullable=False, unique=True)\n",
    "    email = Column(String(255), nullable=False, unique=True)  # Добавлено поле email, как было запрошено ранее\n",
    "    registration_date = Column(DateTime(timezone=True), default=func.now())\n",
    "\n",
    "    def set_password(self, password):\n",
    "        self.password_hash = generate_password_hash(password)\n",
    "\n",
    "# Определение модели для аккаунта\n",
    "class Account(Base):\n",
    "    __tablename__ = 'accounts'\n",
    "    \n",
    "    id = Column(Integer, primary_key=True, autoincrement=True)\n",
    "    user_id = Column(Integer, ForeignKey('users.id'))\n",
    "    cash = Column(Integer, nullable=False)\n",
    "    \n",
    "    user = relationship('User', back_populates='accounts')\n",
    "\n",
    "# Определение модели для таблицы действий\n",
    "class Action(Base):\n",
    "    __tablename__ = 'actions'\n",
    "\n",
    "    id = Column(Integer, primary_key=True, autoincrement=True)\n",
    "    account_id = Column(Integer, ForeignKey('accounts.id'))\n",
    "    currency_spent = Column(Integer, nullable=False)\n",
    "    created_at = Column(DateTime, default=datetime.utcnow)\n",
    "\n",
    "    user = relationship('User', back_populates='actions')\n",
    "\n",
    "User.actions = relationship('Action', order_by=Action.id, back_populates='user')\n",
    "\n",
    "# Определение модели для таблицы ML-моделей\n",
    "class Model(Base):\n",
    "    __tablename__ = 'models'\n",
    "\n",
    "    id = Column(Integer, primary_key=True, autoincrement=True)\n",
    "    model_name = Column(String, nullable=False)\n",
    "    cost = Column(Integer, nullable=False)\n",
    "\n",
    "# Определение модели для таблицы предсказаний\n",
    "class Prediction(Base):\n",
    "    __tablename__ = 'predictions'\n",
    "\n",
    "    id = Column(Integer, primary_key=True, autoincrement=True)\n",
    "    action_id = Column(Integer, ForeignKey(\"actions.id\"))\n",
    "    user_id = Column(Integer, ForeignKey('users.id'))\n",
    "    model_id = Column(Integer, ForeignKey('models.id'))\n",
    "    created_at = Column(DateTime, default=datetime.utcnow)\n",
    "\n",
    "    gender = Column(Boolean, nullable=False, default=True)\n",
    "    body_mass_index = Column(Float, nullable=False)\n",
    "    physical_activity = Column(Boolean, nullable=False, default=True)\n",
    "    insulin_level = Column(Float, nullable=False)\n",
    "    diabetes = Column(Integer, nullable=True)\n",
    "    glucose_level = Column(Float, nullable=False)\n",
    "    glucose_tolerance_test = Column(Float, nullable=False)\n",
    "    prediction_result = Column(String(255), nullable=False)\n",
    "\n",
    "    action = relationship('Action', back_populates='predictions')\n",
    "    user = relationship('User', back_populates='predictions')\n",
    "    model = relationship('Model', back_populates='predictions')\n",
    "\n",
    "Action.predictions = relationship('Prediction', order_by=Prediction.id, back_populates='action')\n",
    "User.predictions = relationship('Prediction', order_by=Prediction.id, back_populates='user')\n",
    "Model.predictions = relationship('Prediction', order_by=Prediction.id, back_populates='model')\n",
    "\n",
    "# Создаем таблицы в базе данных, если они еще не существуют\n",
    "Base.metadata.create_all(engine)\n",
    "\n",
    "# Создаем сессию для работы с базой данных\n",
    "Session = sessionmaker()\n",
    "with Session(autoflush=False, bind=engine) as db: \n",
    "    pass"
   ]
  },
  {
   "cell_type": "code",
   "execution_count": 4,
   "id": "7236dc17",
   "metadata": {},
   "outputs": [
    {
     "data": {
      "text/plain": [
       "<src.db.entities.ModelEntity.DBModel at 0x16158dfa0>"
      ]
     },
     "execution_count": 4,
     "metadata": {},
     "output_type": "execute_result"
    }
   ],
   "source": [
    "create_new_model('dummy', 15, db)\n",
    "create_new_model('rfmodel', 10, db)\n",
    "create_new_model('svcmodel', 5, db)"
   ]
  },
  {
   "cell_type": "code",
   "execution_count": null,
   "id": "d227f06e",
   "metadata": {},
   "outputs": [],
   "source": []
  }
 ],
 "metadata": {
  "kernelspec": {
   "display_name": "Python 3 (ipykernel)",
   "language": "python",
   "name": "python3"
  },
  "language_info": {
   "codemirror_mode": {
    "name": "ipython",
    "version": 3
   },
   "file_extension": ".py",
   "mimetype": "text/x-python",
   "name": "python",
   "nbconvert_exporter": "python",
   "pygments_lexer": "ipython3",
   "version": "3.9.6"
  }
 },
 "nbformat": 4,
 "nbformat_minor": 5
}
